{
  "cells": [
    {
      "cell_type": "markdown",
      "metadata": {
        "id": "MMwiiqwgnVLa"
      },
      "source": [
        "#Import Libraries"
      ]
    },
    {
      "cell_type": "code",
      "execution_count": 29,
      "metadata": {
        "id": "3Q8Ba4NPnZyT",
        "colab": {
          "base_uri": "https://localhost:8080/"
        },
        "outputId": "960721c9-9108-42ef-a9be-5d84d8e95cac"
      },
      "outputs": [
        {
          "output_type": "stream",
          "name": "stdout",
          "text": [
            "\u001b[2K   \u001b[90m━━━━━━━━━━━━━━━━━━━━━━━━━━━━━━━━━━━━━━━━\u001b[0m \u001b[32m31.3/31.3 MB\u001b[0m \u001b[31m19.4 MB/s\u001b[0m eta \u001b[36m0:00:00\u001b[0m\n",
            "\u001b[?25h"
          ]
        }
      ],
      "source": [
        "!pip install -Uq \"google-genai==1.17.0\"\n",
        "!pip install -q dateparser\n",
        "!pip install -q --upgrade google-api-python-client google-auth-httplib2 google-auth-oauthlib\n",
        "!pip install -q faiss-cpu"
      ]
    },
    {
      "cell_type": "code",
      "execution_count": 17,
      "metadata": {
        "colab": {
          "base_uri": "https://localhost:8080/",
          "height": 35
        },
        "id": "Y4uGct3eoE1H",
        "outputId": "776a29ea-f3f2-426f-9b7a-ebb6a3944824"
      },
      "outputs": [
        {
          "output_type": "execute_result",
          "data": {
            "text/plain": [
              "'1.17.0'"
            ],
            "application/vnd.google.colaboratory.intrinsic+json": {
              "type": "string"
            }
          },
          "metadata": {},
          "execution_count": 17
        }
      ],
      "source": [
        "from google import genai\n",
        "\n",
        "from google.genai import types\n",
        "\n",
        "from IPython.display import Markdown, display\n",
        "\n",
        "import requests\n",
        "\n",
        "genai.__version__"
      ]
    },
    {
      "cell_type": "markdown",
      "metadata": {
        "id": "F4zsrJY8octE"
      },
      "source": [
        "#Setting API Key"
      ]
    },
    {
      "cell_type": "code",
      "execution_count": 3,
      "metadata": {
        "id": "itMj1c_johvx"
      },
      "outputs": [],
      "source": [
        "from google.colab import userdata\n",
        "\n",
        "api_key = userdata.get('GOOGLE_API_KEY')\n",
        "api_key_2 = userdata.get('NEWS_API_KEY')\n",
        "api_key_3 = userdata.get('WEATHER_API_KEY')\n",
        "\n",
        "client = genai.Client(api_key=api_key)"
      ]
    },
    {
      "cell_type": "markdown",
      "metadata": {
        "id": "GkIdtR2vqiSc"
      },
      "source": [
        "##Automated Retry"
      ]
    },
    {
      "cell_type": "code",
      "execution_count": 4,
      "metadata": {
        "id": "Y6Jq6OTGql6U"
      },
      "outputs": [],
      "source": [
        "from google.api_core import retry\n",
        "is_retriable = lambda e: (isinstance(e, genai.errors.APIError) and e.code in {429, 503})\n",
        "\n",
        "\n",
        "if not hasattr(genai.models.Models.generate_content, '__wrapped__'):\n",
        "  genai.models.Models.generate_content = retry.Retry(\n",
        "      predicate=is_retriable)(genai.models.Models.generate_content)"
      ]
    },
    {
      "cell_type": "markdown",
      "source": [
        "##Authenticating  and Initializing Calendar Service"
      ],
      "metadata": {
        "id": "QSWuNq0B9Qlx"
      }
    },
    {
      "cell_type": "code",
      "source": [
        "# from google.oauth2.credentials import Credentials\n",
        "# from googleapiclient.discovery import build\n",
        "# from google.auth.transport.requests import Request\n",
        "# import os.path\n",
        "# import json\n",
        "\n",
        "# # Load credentials (replace with your OAuth client config)\n",
        "# SCOPES = ['740292359827-tlqfjofi352o12pnotc7gepesk2qdtvo.apps.googleusercontent.com']\n",
        "# creds = None\n",
        "\n",
        "# if os.path.exists('token.json'):\n",
        "#     creds = Credentials.from_authorized_user_file('token.json', SCOPES)\n",
        "\n",
        "# if not creds or not creds.valid:\n",
        "#     if creds and creds.expired and creds.refresh_token:\n",
        "#         creds.refresh(Request())\n",
        "#     else:\n",
        "#         from google_auth_oauthlib.flow import InstalledAppFlow\n",
        "#         flow = InstalledAppFlow.from_client_secrets_file(\n",
        "#             'credentials.json', SCOPES)  # Download from Google Cloud Console\n",
        "#         creds = flow.run_local_server(port=0)\n",
        "\n",
        "#     with open('token.json', 'w') as token:\n",
        "#         token.write(creds.to_json())\n",
        "\n",
        "# calendar_service = build('calendar', 'v3', credentials=creds)\n",
        "\n",
        "from google.colab import auth\n",
        "from google.auth import default\n",
        "from googleapiclient.discovery import build\n",
        "\n",
        "# Authenticate and create credentials\n",
        "auth.authenticate_user()\n",
        "creds, _ = default()\n",
        "\n",
        "# Define the services\n",
        "SCOPES = [\n",
        "    'https://www.googleapis.com/auth/calendar',\n",
        "    'https://www.googleapis.com/auth/gmail.readonly',\n",
        "    'https://www.googleapis.com/auth/gmail.send'\n",
        "]\n",
        "\n",
        "calendar_service = build('calendar', 'v3', credentials=creds)\n",
        "gmail_service = build('gmail', 'v1', credentials=creds)\n",
        "\n",
        "print(\"Services initialized successfully!\")"
      ],
      "metadata": {
        "colab": {
          "base_uri": "https://localhost:8080/"
        },
        "id": "Xu2NNpfk9Xe0",
        "outputId": "d1785c82-2de2-405f-ab15-3d834fc5100d"
      },
      "execution_count": 24,
      "outputs": [
        {
          "output_type": "stream",
          "name": "stdout",
          "text": [
            "Services initialized successfully!\n"
          ]
        }
      ]
    },
    {
      "cell_type": "markdown",
      "source": [
        "##Get Events"
      ],
      "metadata": {
        "id": "syhrTwdQNFo0"
      }
    },
    {
      "cell_type": "code",
      "source": [
        "def get_calendar_events(time_min=None, time_max=None, query=None):\n",
        "    events_result = calendar_service.events().list(\n",
        "        calendarId='primary',\n",
        "        timeMin=time_min,\n",
        "        timeMax=time_max,\n",
        "        q=query,\n",
        "        singleEvents=True,\n",
        "        orderBy='startTime'\n",
        "    ).execute()\n",
        "    return events_result.get('items', [])\n",
        "\n",
        "def format_events(events):\n",
        "    if not events:\n",
        "        return \"No events found.\"\n",
        "\n",
        "    formatted = \"Your Events:\\n\\n\"\n",
        "    for event in events:\n",
        "        start = event['start'].get('dateTime', event['start'].get('date'))\n",
        "        end = event['end'].get('dateTime', event['end'].get('date'))\n",
        "        attendees = \", \".join(\n",
        "            [attendee['email'] for attendee in event.get('attendees', [])])\n",
        "\n",
        "        formatted += (\n",
        "            f\"• **{event['summary']}**\\n\"\n",
        "            f\"  {start} - {end}\\n\"\n",
        "            f\"  {event.get('location', 'No location')}\\n\"\n",
        "            f\"  Attendees: {attendees}\\n\"\n",
        "            f\"  {event.get('htmlLink', 'No link')}\\n\\n\"\n",
        "        )\n",
        "    return formatted"
      ],
      "metadata": {
        "id": "cim6ZRSfMQYU"
      },
      "execution_count": 25,
      "outputs": []
    },
    {
      "cell_type": "markdown",
      "source": [
        "##Create Events"
      ],
      "metadata": {
        "id": "5TXkfSXkNgQr"
      }
    },
    {
      "cell_type": "code",
      "source": [
        "def create_calendar_event(title, start_time, end_time=None, attendees=None, description=\"\"):\n",
        "    if not end_time:\n",
        "        end_time = (datetime.fromisoformat(start_time) + timedelta(hours=1)).isoformat()\n",
        "\n",
        "    event = {\n",
        "        'summary': title,\n",
        "        'description': description,\n",
        "        'start': {'dateTime': start_time, 'timeZone': 'UTC'},\n",
        "        'end': {'dateTime': end_time, 'timeZone': 'UTC'},\n",
        "        'attendees': [{'email': email} for email in attendees] if attendees else [],\n",
        "    }\n",
        "\n",
        "    created_event = calendar_service.events().insert(\n",
        "        calendarId='primary',\n",
        "        body=event\n",
        "    ).execute()\n",
        "\n",
        "    return f\"Event created: {created_event['htmlLink']}\""
      ],
      "metadata": {
        "id": "U9jE6UxnNi1w"
      },
      "execution_count": 26,
      "outputs": []
    },
    {
      "cell_type": "markdown",
      "source": [
        "##Fetch Emails"
      ],
      "metadata": {
        "id": "Km3vFhhJN3To"
      }
    },
    {
      "cell_type": "code",
      "source": [
        "def get_emails(query=\"\", max_results=5):\n",
        "    results = gmail_service.users().messages().list(\n",
        "        userId='me',\n",
        "        q=query,\n",
        "        maxResults=max_results\n",
        "    ).execute()\n",
        "    return results.get('messages', [])\n",
        "\n",
        "def format_email_summary(email):\n",
        "    msg = gmail_service.users().messages().get(\n",
        "        userId='me',\n",
        "        id=email['id'],\n",
        "        format='metadata'\n",
        "    ).execute()\n",
        "\n",
        "    subject = next(\n",
        "        h['value'] for h in msg['payload']['headers'] if h['name'] == 'Subject')\n",
        "    sender = next(\n",
        "        h['value'] for h in msg['payload']['headers'] if h['name'] == 'From')\n",
        "\n",
        "    return f\"{subject}\\n   {sender}\\n\""
      ],
      "metadata": {
        "id": "7EepYraIN6mo"
      },
      "execution_count": 28,
      "outputs": []
    },
    {
      "cell_type": "markdown",
      "source": [
        "#Vector Stores for Emails"
      ],
      "metadata": {
        "id": "WM2CR-GNOTGG"
      }
    },
    {
      "cell_type": "code",
      "source": [
        "import faiss\n",
        "import numpy as np\n",
        "\n",
        "class ContactStore:\n",
        "    def __init__(self):\n",
        "        self.index = faiss.IndexFlatL2(128)  # Dummy embedding dimension\n",
        "        self.contacts = []\n",
        "\n",
        "    def add_contact(self, name, email):\n",
        "        self.contacts.append((name, email))\n",
        "        # In a real app, you'd use a text embedding model here.\n",
        "\n",
        "    def find_email(self, name):\n",
        "        for contact_name, email in self.contacts:\n",
        "            if name.lower() in contact_name.lower():\n",
        "                return email\n",
        "        return None\n",
        "\n",
        "# Example usage:\n",
        "contacts = ContactStore()\n",
        "contacts.add_contact(\"Sarah Thompson\", \"sarah@example.com\")\n",
        "contacts.add_contact(\"John Doe\", \"john@example.com\")\n",
        "\n",
        "print(contacts.find_email(\"Sarah\"))"
      ],
      "metadata": {
        "colab": {
          "base_uri": "https://localhost:8080/"
        },
        "id": "N4icvvJaOXVX",
        "outputId": "bc24d9f2-a286-4da2-cc17-63686a0a2a46"
      },
      "execution_count": 30,
      "outputs": [
        {
          "output_type": "stream",
          "name": "stdout",
          "text": [
            "sarah@example.com\n"
          ]
        }
      ]
    },
    {
      "cell_type": "markdown",
      "source": [
        "##Email Template"
      ],
      "metadata": {
        "id": "Y2VUl4qpPBUj"
      }
    },
    {
      "cell_type": "code",
      "source": [
        "EMAIL_TEMPLATES = {\n",
        "    \"meeting_request\": {\n",
        "        \"subject\": \"Meeting Request: {title}\",\n",
        "        \"body\": (\n",
        "            \"Hi {attendee_name},\\n\\n\"\n",
        "            \"I'd like to schedule a meeting about {title}.\\n\"\n",
        "            \"Time: {time}\\n\"\n",
        "            \"Location: {location}\\n\\n\"\n",
        "            \"Best regards,\\nChrispine Odhiambo\"\n",
        "        )\n",
        "    }\n",
        "}\n",
        "\n",
        "def send_email(to, template_name, **kwargs):\n",
        "    template = EMAIL_TEMPLATES[template_name]\n",
        "    email_body = template[\"body\"].format(**kwargs)\n",
        "\n",
        "    message = {\n",
        "        'raw': base64.urlsafe_b64encode(\n",
        "            f\"To: {to}\\n\"\n",
        "            f\"Subject: {template['subject'].format(**kwargs)}\\n\\n\"\n",
        "            f\"{email_body}\".encode()\n",
        "        ).decode()\n",
        "    }\n",
        "\n",
        "    gmail_service.users().messages().send(\n",
        "        userId='me',\n",
        "        body=message\n",
        "    ).execute()\n",
        "    return \"Email sent successfully.\""
      ],
      "metadata": {
        "id": "E-NFJNERPEHT"
      },
      "execution_count": 31,
      "outputs": []
    },
    {
      "cell_type": "markdown",
      "metadata": {
        "id": "HIRIMxKXho4q"
      },
      "source": [
        "##News Implementation Code"
      ]
    },
    {
      "cell_type": "code",
      "execution_count": 5,
      "metadata": {
        "id": "3zAnoWBPhuie"
      },
      "outputs": [],
      "source": [
        "def get_news(category=None, query=None, num_articles=5):\n",
        "  base_url = \"https://newsapi.org/v2/\"\n",
        "\n",
        "  if query:\n",
        "    endpoint = \"everything\"\n",
        "    params = {\n",
        "        \"q\": query,\n",
        "        \"pageSize\": num_articles,\n",
        "        \"apiKey\": api_key_2,\n",
        "        \"sortBy\": \"publishedAt\",\n",
        "        \"language\": \"en\"\n",
        "    }\n",
        "  elif category:\n",
        "    endpoint = \"top-headlines\"\n",
        "    params = {\n",
        "        \"category\": category,\n",
        "        \"pageSize\": num_articles,\n",
        "        \"api_key\": api_key_2,\n",
        "\n",
        "    }\n",
        "  else:\n",
        "    endpoint = \"top-headlines\"\n",
        "    params = {\n",
        "        \"pageSize\": num_articles,\n",
        "        \"api_key\": api_key_2,\n",
        "\n",
        "    }\n",
        "  try:\n",
        "        response = requests.get(base_url + endpoint, params=params)\n",
        "        response.raise_for_status()\n",
        "        articles = response.json().get('articles', [])\n",
        "\n",
        "        if not articles:\n",
        "            return \"No recent news found on this topic.\"\n",
        "\n",
        "        return articles\n",
        "\n",
        "  except requests.exceptions.RequestException as e:\n",
        "        return f\"News API error: {str(e)}\"\n",
        "\n",
        "def format_news_response(articles):\n",
        "\n",
        "    if isinstance(articles, str):\n",
        "        return articles  # Return error message if present\n",
        "\n",
        "    formatted_news = \"📰 Latest News:\\n\"\n",
        "    for i, article in enumerate(articles[:5], 1):\n",
        "        title = article.get('title', 'No title')\n",
        "        source = article.get('source', {}).get('name', 'Unknown source')\n",
        "        description = article.get('description', 'No description available')\n",
        "        url = article.get('url', '#')\n",
        "\n",
        "        formatted_news += (\n",
        "            f\"{i}. {title} - {source}\\n\"\n",
        "            f\"   • {description}\\n\"\n",
        "            f\"   • Read more: {url}\\n\\n\"\n",
        "        )\n",
        "\n",
        "    return formatted_news"
      ]
    },
    {
      "cell_type": "markdown",
      "source": [
        "#Setting Reminders"
      ],
      "metadata": {
        "id": "sD1D_njo0d6w"
      }
    },
    {
      "cell_type": "code",
      "source": [
        "import sqlite3\n",
        "from datetime import datetime\n",
        "\n",
        "def init_db():\n",
        "    \"\"\"Initialize the database\"\"\"\n",
        "    conn = sqlite3.connect('reminders.db')\n",
        "    c = conn.cursor()\n",
        "    c.execute('''CREATE TABLE IF NOT EXISTS reminders\n",
        "                 (id INTEGER PRIMARY KEY AUTOINCREMENT,\n",
        "                  text TEXT NOT NULL,\n",
        "                  due_date TEXT NOT NULL,\n",
        "                  priority TEXT DEFAULT 'medium',\n",
        "                  created_at TEXT NOT NULL,\n",
        "                  completed INTEGER DEFAULT 0,\n",
        "                  completed_at TEXT)''')\n",
        "    conn.commit()\n",
        "    conn.close()\n",
        "\n",
        "def add_reminder_db(text, due_date, priority=\"medium\"):\n",
        "    \"\"\"Add a new reminder to database\"\"\"\n",
        "    conn = sqlite3.connect('reminders.db')\n",
        "    c = conn.cursor()\n",
        "    created_at = datetime.now().isoformat()\n",
        "    c.execute('''INSERT INTO reminders (text, due_date, priority, created_at)\n",
        "                 VALUES (?, ?, ?, ?)''',\n",
        "              (text, due_date, priority, created_at))\n",
        "    conn.commit()\n",
        "    reminder_id = c.lastrowid\n",
        "    conn.close()\n",
        "    return reminder_id\n",
        "\n",
        "def get_reminders_db(show_completed=False):\n",
        "    \"\"\"Get reminders from database\"\"\"\n",
        "    conn = sqlite3.connect('reminders.db')\n",
        "    c = conn.cursor()\n",
        "    if show_completed:\n",
        "        c.execute('SELECT * FROM reminders ORDER BY due_date')\n",
        "    else:\n",
        "        c.execute('SELECT * FROM reminders WHERE completed = 0 ORDER BY due_date')\n",
        "    reminders = c.fetchall()\n",
        "    conn.close()\n",
        "    return reminders\n",
        "\n",
        "def complete_reminder_db(reminder_id):\n",
        "    \"\"\"Mark reminder as completed in database\"\"\"\n",
        "    conn = sqlite3.connect('reminders.db')\n",
        "    c = conn.cursor()\n",
        "    completed_at = datetime.now().isoformat()\n",
        "    c.execute('''UPDATE reminders SET completed = 1, completed_at = ?\n",
        "                 WHERE id = ?''', (completed_at, reminder_id))\n",
        "    conn.commit()\n",
        "    rows_affected = c.rowcount\n",
        "    conn.close()\n",
        "    return rows_affected > 0\n",
        "\n",
        "def delete_reminder_db(reminder_id):\n",
        "    \"\"\"Delete reminder from database\"\"\"\n",
        "    conn = sqlite3.connect('reminders.db')\n",
        "    c = conn.cursor()\n",
        "    c.execute('DELETE FROM reminders WHERE id = ?', (reminder_id,))\n",
        "    conn.commit()\n",
        "    rows_affected = c.rowcount\n",
        "    conn.close()\n",
        "    return rows_affected > 0"
      ],
      "metadata": {
        "id": "GmEY9a0p0h4X"
      },
      "execution_count": 6,
      "outputs": []
    },
    {
      "cell_type": "markdown",
      "source": [
        "##Integration with Your Assistant"
      ],
      "metadata": {
        "id": "OTZ64Lyz0zwW"
      }
    },
    {
      "cell_type": "code",
      "source": [
        "def handle_reminders(request):\n",
        "    \"\"\"Process reminder-related requests\"\"\"\n",
        "    request_lower = request.lower()\n",
        "\n",
        "    # Initialize database (only needed once)\n",
        "    init_db()\n",
        "\n",
        "    if \"add reminder\" in request_lower or \"set reminder\" in request_lower:\n",
        "        # Parse reminder details from request\n",
        "        try:\n",
        "            # Example: \"Add reminder to call John tomorrow at 3pm\"\n",
        "            parts = request.split(\"reminder\")[1].strip()\n",
        "            text = parts.split(\"on\")[0].split(\"at\")[0].strip()\n",
        "\n",
        "            # This would need more sophisticated date parsing in a real implementation\n",
        "            due_date = datetime.now().isoformat()  # Placeholder - use dateparser in real implementation\n",
        "\n",
        "            reminder_id = add_reminder_db(text, due_date)\n",
        "            return f\"Reminder added successfully (ID: {reminder_id})\"\n",
        "\n",
        "        except Exception as e:\n",
        "            return f\"Could not add reminder: {str(e)}\"\n",
        "\n",
        "    elif \"show reminders\" in request_lower or \"list reminders\" in request_lower:\n",
        "        show_completed = \"completed\" in request_lower\n",
        "        reminders = get_reminders_db(show_completed)\n",
        "\n",
        "        if not reminders:\n",
        "            return \"No reminders found.\"\n",
        "\n",
        "        response = \"📝 Your Reminders:\\n\\n\"\n",
        "        for reminder in reminders:\n",
        "            status = \"✓\" if reminder[5] else \"◻\"\n",
        "            response += (\n",
        "                f\"{status} [{reminder[0]}] {reminder[1]}\\n\"\n",
        "                f\"   ⏰ Due: {reminder[2]}\\n\"\n",
        "                f\"   ⚡ Priority: {reminder[3]}\\n\\n\"\n",
        "            )\n",
        "        return response\n",
        "\n",
        "    elif \"complete reminder\" in request_lower:\n",
        "        try:\n",
        "            reminder_id = int(request.split()[-1])\n",
        "            if complete_reminder_db(reminder_id):\n",
        "                return f\"Reminder {reminder_id} marked as completed.\"\n",
        "            return f\"Could not find reminder {reminder_id}.\"\n",
        "        except:\n",
        "            return \"Please specify a valid reminder ID.\"\n",
        "\n",
        "    elif \"delete reminder\" in request_lower:\n",
        "        try:\n",
        "            reminder_id = int(request.split()[-1])\n",
        "            if delete_reminder_db(reminder_id):\n",
        "                return f\"Reminder {reminder_id} deleted.\"\n",
        "            return f\"Could not find reminder {reminder_id}.\"\n",
        "        except:\n",
        "            return \"Please specify a valid reminder ID.\"\n",
        "\n",
        "    else:\n",
        "        return \"I can help with reminders. Try saying 'add reminder', 'show reminders', 'complete reminder', or 'delete reminder'.\""
      ],
      "metadata": {
        "id": "IwUgW5L-01ay"
      },
      "execution_count": 7,
      "outputs": []
    },
    {
      "cell_type": "markdown",
      "source": [
        "##Date Parsing"
      ],
      "metadata": {
        "id": "OOzmKqaz1LCI"
      }
    },
    {
      "cell_type": "code",
      "source": [
        "import dateparser\n",
        "\n",
        "def parse_due_date(text):\n",
        "    \"\"\"Parse natural language dates into datetime objects\"\"\"\n",
        "    try:\n",
        "        return dateparser.parse(text).isoformat()\n",
        "    except:\n",
        "        return None"
      ],
      "metadata": {
        "id": "1gCvuvMR1N_1"
      },
      "execution_count": 8,
      "outputs": []
    },
    {
      "cell_type": "markdown",
      "metadata": {
        "id": "eUvVQ8-c9hCG"
      },
      "source": [
        "# Prompting ENgineering"
      ]
    },
    {
      "cell_type": "code",
      "execution_count": 9,
      "metadata": {
        "id": "Goy6fczu9P6n"
      },
      "outputs": [],
      "source": [
        "ASSISTANT_PROMPT =\"\"\"\n",
        "\n",
        "**Role**\n",
        "Your are a very efficient and intelligent personal assistant, responsible for managing calendar events, emails and communication tasks seamlessly. Your name is Sonia and you are Chrispine's Personal assistant. When user inquires about who you are you should be short and concise with the response. For Instance\n",
        "\"Who are you?\"  your response should be simple and short\n",
        "\"I am Sonia, Chrispine's Personal assistant, how can i help you?\"\n",
        "And also if greeting is given to you, your response should be simple and short.\n",
        "\n",
        "**Important**\n",
        "I would like you to only give the output as requested, do not display your thinking or the step by step approach you took, or the tools you used in you execution. The user doesnt need that information\n",
        "Also it is not required everytime for you to display the Information about who you are.\n",
        "Read through the users question carefully and only respond with what is neccessary\n",
        "\n",
        "**News Retrieval Capability**\n",
        "- When asked for news/trending updates:\n",
        "  1. First determine the news category/topic requested (general, technology, business, sports, etc.)\n",
        "  2. Use the **News API Tool** with api_key_2 to fetch latest headlines\n",
        "  3. For general news requests, fetch top headlines\n",
        "  4. For specific topics, fetch relevant category news\n",
        "  5. Provide concise summaries (max 3 sentences per story)\n",
        "  6. Always include: Source, Title, Brief Summary, and URL\n",
        "  7. For trending requests, show top 5 stories\n",
        "  8. Always attribute properly with \"According to [News Source]\"\n",
        "\n",
        "**News Response Format Examples:**\n",
        "1. General News Request:\n",
        " Latest News (5 headlines):\n",
        "1. [Title] - [Source]\n",
        "   • [Summary]\n",
        "   • [URL]\n",
        "2. [Title] - [Source]\n",
        "   • [Summary]\n",
        "   • [URL]\n",
        "\n",
        "2. Specific Topic Request:\n",
        " Technology News:\n",
        "1. [Title] - [Source]\n",
        "   • [Summary]\n",
        "   • [URL]\n",
        "2. [Title] - [Source]\n",
        "   • [Summary]\n",
        "   • [URL]\n",
        "\n",
        "**News Query Examples:**\n",
        "- \"Get me the latest news\"\n",
        "- \"What's happening in technology?\"\n",
        "- \"Show me business headlines\"\n",
        "- \"Any sports news today?\"\n",
        "- \"Find news about climate change\"\n",
        "\n",
        "**Error Handling:**\n",
        "- If news cannot be fetched: \"I couldn't retrieve news at the moment. Please try again later or check your API connection.\"\n",
        "- If no news found: \"No recent news found on this topic.\"\n",
        "\n",
        "\n",
        "#**Primary Task**\n",
        "**Retrieve Calendar Events**\n",
        "- Use the **Get Events** tool to fetch calendar events based on user instructions. Handle queries like: \"Retrieve today's events\", \"Get Tomorrow's meetings\", \"How busy am i this week\", \"Are there any off days for me\"\n",
        "Include details like:\n",
        "\"Event name, start and end time, location, video meeting link if available and participants name/email\"\n",
        "- Present results in a clear format.\n",
        "\n",
        "```Event: [Event Name]\n",
        "        Time: [Start time] - [End Time]\n",
        "        Location: [Location]\n",
        "        Link to the Meeting if available\n",
        "        Participant:\n",
        "          1 [Name] : [Email]\n",
        "          2 [Name] : [Email]\n",
        "```\n",
        "**Create Calendar Events**\n",
        "- Use the **Create Events** tool to schedule new events, projects, classes and workout\n",
        "-Inputs include Title, start date, end date, descriptions and attendees\n",
        "- Resolve attendees name to email addresses using the **vector store tool** for contact reference\n",
        "Example \"Add Sara to the meeting\", retrieve Sarah Thompsons and her associated email address from the vector stores. Confirm event with the user before finalizing\n",
        "\n",
        "```Title: [Title Event]\n",
        "     Time: [Start time/Date]\n",
        "     Attendees: [List of Emails/Names]\n",
        "     Description: [Event Description]\n",
        "```\n",
        "- If no end time is stated please assume the event will last 1 hour.\n",
        "- For Projects the input contain the title, expected date/time of start and expected end time\n",
        "The Project should have the following schema\n",
        "\n",
        "```Title: [Project Name which may be vaguely described and you should refine it to something that makes sense]\n",
        "    Time: [This includes the start and expected finish time which should go past a week]\n",
        "    Description: [A short description on what the project is about]\n",
        "```\n",
        "- For the classes i will provide the timetable for you to get insights and communicate to me the classes am to have and assignments that are due and when they are due.\n",
        "-For this i Want to choose a suitable format to display the information\n",
        "- For the gym, It just a simple routine but the primary goal is to ensure i have three workout sessions a week and two cardio days in the same week. It may be dynamic depending on the week as some weeks tend to be busy than others.\n",
        "\n",
        "**Retrieve Emails with Summaries**\n",
        "- Use the **Receive Many Emails** to fetch emails dynamically based on the users request: For example \"Get todays's emails\", \"Show emails from last week\".\n",
        "Summarize the retrieved emails into a user friendly list.\n",
        "```   Email 1\n",
        "     - Subject: [subject]\n",
        "     - Sender: [sender name/email]\n",
        "     - Summary: [Brief description of email content]\n",
        "```\n",
        "- Allow users to select a specific email for further action.\n",
        "\n",
        "**Send Emails using Templates**\n",
        "- Use the **Send and Approve Email** tool to send or reply to emails based on user instructions\n",
        "- Leverage the **vector store tool** for predefined templates.\n",
        "- For example if a user says \"Send a meeting request to John\", retrieve the **Meeting Request** template from the vector store.\n",
        "- Dynamically populate the template using user provided details(e.g, recipient, date and time):\n",
        "\n",
        "```Template: Meeting Request\n",
        "     Greeting: Hi [Recipient's Name]\n",
        "     Purpose : [Reason for the email, dynamically populated]\n",
        "     Closing : Best Regard [My Name]\n",
        "```\n",
        "- Confirm with the user before sending:\n",
        "```To: [Recipient's body]\n",
        "     Subject: [Subject Line]\n",
        "     Body: [Draft Content]\n",
        "```\n",
        "- For replying to specific emails, incorporate context dynamically and confirm the drafts with the user.\n",
        "#**Tool Usage**:\n",
        "- Dynamically Invoke:\n",
        "\n",
        "- **Vector Store Tool**: Retrieve contact details(e.g names to emails mappings) and predefined templates for the emails.\n",
        "- **Calendar Tool**: Fetch or create calendar events.\n",
        "- **Gmail Tool**: Fetch, Summarize, reply to, or send emails.\n",
        "- **SERP API Tool**: Perform real-time internet searches and provide summarized results.\n",
        "\n",
        "##**Ambiguity Handling**:\n",
        "1. **Resolve Vague References (e.g Sarah) by checking the **vector store tool** for the closest match.\n",
        "- Example \"Invite Sarah to the meeting\" resolve to \"Sarah Thompson\" (frijisample@gmail.com).\n",
        "\n",
        "2. **If conflicting options exist ask the user for clarifications**\n",
        "# **Examples**\n",
        "##**Event Retrieval Example**\n",
        "**User Requests**: \"Retrieve today's events\"\n",
        "**Response**:\n",
        "```1. Event: Weekly Team sync\n",
        "          Time: 10:00 AM - 11:00 AM\n",
        "          Location: FG Labs HQ\n",
        "          Video Link: [Meet Link]\n",
        "          Participants:\n",
        "- Sarah Thompson: (frijisample@gmail.com)\n",
        "- David Lee: (davidlee@gmail.com)\n",
        "    2. Event: Weekly Team sync\n",
        "         Time: 10:00 AM - 11:00 AM\n",
        "         Location: Zoom\n",
        "         Video Link: [Meet Link]\n",
        "Participants:\n",
        "-Tim Thompson: (timthompsonsample@gmail.com)\n",
        "- Mwende Ngina Lee: (mwendengina@gmail.com)\n",
        "```\n",
        "##**Email Summary sample**\n",
        "**User Request**: \"Get Emails received today\"\n",
        "**Response**:\n",
        "1. Email 1:\n",
        "  - Subject : Collaboration Opportunity\n",
        "  - From: Sarah Thompson (frijisample@gmail.com)\n",
        "  - Summary: \"Proposal to collaborate on a video next week\"\n",
        "2. Email 2:\n",
        "  - Subject: Meeting Confirmation\n",
        "  - From: Emily Milk (example12sample@gmail.com)\n",
        " - Summary: \"Confirmation of tomorrows meeting at 10:00 AM\"\n",
        "```\n",
        "##Final Thoughts\n",
        "- **Image Understanding**\n",
        "When given an image read through the image description step by step and acknowledge you understand it. And If you are not provided with intent of the user with the image ask the user for what they would like you to do with it or provide contextual suggestion based on the information from the image.\n",
        "- Make Sure the Emails you send have my name Chrispine Odhiambo at the end. Do not leave any square brackets\n",
        "- If possible can you also generate reminders for events in the calendar.\n",
        "- **Today's Date**\n",
        "\"\"\""
      ]
    },
    {
      "cell_type": "code",
      "execution_count": 10,
      "metadata": {
        "colab": {
          "base_uri": "https://localhost:8080/"
        },
        "id": "7AtpokcP4jCf",
        "outputId": "4d79c830-249f-4ca9-f936-81629b4e1bf8",
        "collapsed": true
      },
      "outputs": [
        {
          "output_type": "stream",
          "name": "stdout",
          "text": [
            "models/embedding-gecko-001\n",
            "models/gemini-1.0-pro-vision-latest\n",
            "models/gemini-pro-vision\n",
            "models/gemini-1.5-pro-latest\n",
            "models/gemini-1.5-pro-001\n",
            "models/gemini-1.5-pro-002\n",
            "models/gemini-1.5-pro\n",
            "models/gemini-1.5-flash-latest\n",
            "models/gemini-1.5-flash-001\n",
            "models/gemini-1.5-flash-001-tuning\n",
            "models/gemini-1.5-flash\n",
            "models/gemini-1.5-flash-002\n",
            "models/gemini-1.5-flash-8b\n",
            "models/gemini-1.5-flash-8b-001\n",
            "models/gemini-1.5-flash-8b-latest\n",
            "models/gemini-1.5-flash-8b-exp-0827\n",
            "models/gemini-1.5-flash-8b-exp-0924\n",
            "models/gemini-2.5-pro-exp-03-25\n",
            "models/gemini-2.5-pro-preview-03-25\n",
            "models/gemini-2.5-flash-preview-04-17\n",
            "models/gemini-2.5-flash-preview-05-20\n",
            "models/gemini-2.5-flash-preview-04-17-thinking\n",
            "models/gemini-2.5-pro-preview-05-06\n",
            "models/gemini-2.5-pro-preview-06-05\n",
            "models/gemini-2.0-flash-exp\n",
            "models/gemini-2.0-flash\n",
            "models/gemini-2.0-flash-001\n",
            "models/gemini-2.0-flash-exp-image-generation\n",
            "models/gemini-2.0-flash-lite-001\n",
            "models/gemini-2.0-flash-lite\n",
            "models/gemini-2.0-flash-preview-image-generation\n",
            "models/gemini-2.0-flash-lite-preview-02-05\n",
            "models/gemini-2.0-flash-lite-preview\n",
            "models/gemini-2.0-pro-exp\n",
            "models/gemini-2.0-pro-exp-02-05\n",
            "models/gemini-exp-1206\n",
            "models/gemini-2.0-flash-thinking-exp-01-21\n",
            "models/gemini-2.0-flash-thinking-exp\n",
            "models/gemini-2.0-flash-thinking-exp-1219\n",
            "models/gemini-2.5-flash-preview-tts\n",
            "models/gemini-2.5-pro-preview-tts\n",
            "models/learnlm-2.0-flash-experimental\n",
            "models/gemma-3-1b-it\n",
            "models/gemma-3-4b-it\n",
            "models/gemma-3-12b-it\n",
            "models/gemma-3-27b-it\n",
            "models/gemma-3n-e4b-it\n",
            "models/embedding-001\n",
            "models/text-embedding-004\n",
            "models/gemini-embedding-exp-03-07\n",
            "models/gemini-embedding-exp\n",
            "models/aqa\n",
            "models/imagen-3.0-generate-002\n",
            "models/veo-2.0-generate-001\n",
            "models/gemini-2.5-flash-preview-native-audio-dialog\n",
            "models/gemini-2.5-flash-preview-native-audio-dialog-rai-v3\n",
            "models/gemini-2.5-flash-exp-native-audio-thinking-dialog\n",
            "models/gemini-2.0-flash-live-001\n"
          ]
        }
      ],
      "source": [
        "# Choosing a model\n",
        "for model in client.models.list():\n",
        "  print(model.name)"
      ]
    },
    {
      "cell_type": "code",
      "execution_count": 13,
      "metadata": {
        "colab": {
          "base_uri": "https://localhost:8080/",
          "height": 46
        },
        "id": "LoRj8OySFZle",
        "outputId": "d8d552ee-ae84-4849-93e6-3168fef036a8"
      },
      "outputs": [
        {
          "output_type": "execute_result",
          "data": {
            "text/plain": [
              "<IPython.core.display.Markdown object>"
            ],
            "text/markdown": "Reminder added successfully (ID: 1)"
          },
          "metadata": {},
          "execution_count": 13
        }
      ],
      "source": [
        "def assistant_response(request: str) -> str:\n",
        "\n",
        "    reminder_keywords = [\"reminder\", \"remind me\", \"todo\", \"task\"]\n",
        "    if any(keyword in request.lower() for keyword in reminder_keywords):\n",
        "        return handle_reminders(request)\n",
        "\n",
        "      # Check if this is a news request\n",
        "    news_keywords = [\"news\", \"headlines\", \"trending\", \"happening\"]\n",
        "    news_categories = {\n",
        "        \"technology\": [\"tech\", \"technology\", \"ai\", \"artificial intelligence\"],\n",
        "        \"business\": [\"business\", \"economy\", \"market\", \"finance\"],\n",
        "        \"sports\": [\"sports\", \"football\", \"basketball\", \"tennis\"],\n",
        "        \"health\": [\"health\", \"medical\", \"medicine\"],\n",
        "        \"science\": [\"science\", \"space\", \"research\"]\n",
        "    }\n",
        "\n",
        "    is_news_request = any(keyword in request.lower() for keyword in news_keywords)\n",
        "\n",
        "    if is_news_request:\n",
        "        # Determine category if specified\n",
        "        category = None\n",
        "        for cat, keywords in news_categories.items():\n",
        "            if any(keyword in request.lower() for keyword in keywords):\n",
        "                category = cat\n",
        "                break\n",
        "\n",
        "        # Get and format news\n",
        "        articles = get_news(category=category)\n",
        "        if isinstance(articles, list):\n",
        "            return format_news_response(articles)\n",
        "        else:\n",
        "            return articles  # Return error message\n",
        "\n",
        "  # Set the temperature low to stabilise the output.\n",
        "    full_prompt = f\"{ASSISTANT_PROMPT}\\n\\nUser request: {request}\"\n",
        "\n",
        "    config = types.GenerateContentConfig(\n",
        "        temperature=2,  # Slightly higher for variety\n",
        "        top_p=0.95,\n",
        "        top_k=40,\n",
        "        max_output_tokens=8192\n",
        "    )\n",
        "    response = client.models.generate_content(\n",
        "      model='gemini-2.5-flash-preview-05-20',\n",
        "      config=config,\n",
        "      contents=[{\"role\": \"user\", \"parts\": [{\"text\": full_prompt}]}]\n",
        "\n",
        "      )\n",
        "    return response.text\n",
        "\n",
        "request = \"Add reminder to call home at 14:00 today\"\n",
        "\n",
        "ai_response = assistant_response(request)\n",
        "Markdown(ai_response)\n"
      ]
    },
    {
      "cell_type": "markdown",
      "metadata": {
        "id": "lUJOdbtQz6R6"
      },
      "source": [
        "# Evaluation"
      ]
    },
    {
      "cell_type": "markdown",
      "metadata": {
        "id": "rpMiedROz-3O"
      },
      "source": [
        "##Define Evaluator"
      ]
    },
    {
      "cell_type": "code",
      "execution_count": null,
      "metadata": {
        "colab": {
          "base_uri": "https://localhost:8080/",
          "height": 87
        },
        "id": "Py2nNM43z8qq",
        "outputId": "d69a59ce-d81d-4408-a20c-7ed55a10b804"
      },
      "outputs": [
        {
          "data": {
            "text/markdown": "5: (Very good). Response is fully correct, follows all instructions, and is well-formatted and fluent.\n\nThe assistant successfully generated a mock schedule for the week, as requested. It adhered to the persona of Sonia, Chrispine's personal assistant, and presented the information in a clear, well-formatted manner consistent with the specified event display format. The language is fluent and easy to understand.",
            "text/plain": [
              "<IPython.core.display.Markdown object>"
            ]
          },
          "execution_count": 24,
          "metadata": {},
          "output_type": "execute_result"
        }
      ],
      "source": [
        "import enum\n",
        "\n",
        "ASSISTANT_EVAL_PROMPT = \"\"\"\\\n",
        "# Instruction\n",
        "You are an expert evaluator of AI assistant behavior. Your task is to assess the quality of the AI-generated response based on how well it fulfills the user’s request.\n",
        "\n",
        "# Evaluation\n",
        "## Metric Definition\n",
        "You are assessing assistant task performance. The assistant is expected to act like a helpful personal assistant named Sonia. The response should follow the instruction in the prompt, present the information clearly, and avoid hallucination (i.e., inventing facts not in the available data). Use the assistant's role and capabilities as defined in the system prompt or tool outputs to evaluate accuracy.\n",
        "\n",
        "## Criteria\n",
        "Instruction following: Did the assistant fulfill the task described in the prompt?\n",
        "Correctness: Is the information factually accurate and grounded in available data or tools?\n",
        "Completeness: Did the assistant provide all relevant information needed to satisfy the request?\n",
        "Formatting: Is the response well-organized and professional in tone?\n",
        "Fluency: Is the language grammatically correct and easy to follow?\n",
        "\n",
        "## Rating Rubric\n",
        "5: (Very good). Response is fully correct, follows all instructions, and is well-formatted and fluent.\n",
        "4: (Good). Mostly correct and complete, minor issues in tone or format.\n",
        "3: (Okay). Task is partially fulfilled; some issues in content or clarity.\n",
        "2: (Poor). Task is mostly unfulfilled or incorrect.\n",
        "1: (Very bad). Response is irrelevant or incorrect.\n",
        "\n",
        "# Evaluation Steps\n",
        "STEP 1: Assess the response for correctness, completeness, and formatting.\n",
        "STEP 2: Assign a score based on the rubric.\n",
        "\n",
        "# User Input\n",
        "{prompt}\n",
        "\n",
        "# Assistant Response\n",
        "{response}\n",
        "\"\"\"\n",
        "# Define a structured enum class to capture the result.\n",
        "class SummaryRating(enum.Enum):\n",
        "  VERY_GOOD = '5'\n",
        "  GOOD = '4'\n",
        "  OK = '3'\n",
        "  BAD = '2'\n",
        "  VERY_BAD = '1'\n",
        "\n",
        "def eval_summary(prompt,ass_response):\n",
        "  chat = client.chats.create(model=\"gemini-2.5-flash-preview-05-20\")\n",
        "\n",
        "  response = chat.send_message(\n",
        "      message=ASSISTANT_EVAL_PROMPT.format(prompt=prompt,response=ass_response))\n",
        "  verbose_eval = response.text\n",
        "\n",
        "    # Coerce into the desired structure.\n",
        "  structured_output_config = types.GenerateContentConfig(\n",
        "      response_mime_type=\"text/x.enum\",\n",
        "      response_schema=SummaryRating,\n",
        "  )\n",
        "  response = chat.send_message(\n",
        "      message=\"Convert the final score.\",\n",
        "      config=structured_output_config,\n",
        "  )\n",
        "  structured_eval = response.parsed\n",
        "\n",
        "  return verbose_eval, structured_eval\n",
        "\n",
        "text_eval, struct_eval = eval_summary(prompt=[request, ASSISTANT_PROMPT], ass_response=ai_response)\n",
        "Markdown(text_eval)\n",
        "\n",
        "\n"
      ]
    }
  ],
  "metadata": {
    "colab": {
      "provenance": []
    },
    "kernelspec": {
      "display_name": "Python 3",
      "name": "python3"
    },
    "language_info": {
      "name": "python"
    }
  },
  "nbformat": 4,
  "nbformat_minor": 0
}